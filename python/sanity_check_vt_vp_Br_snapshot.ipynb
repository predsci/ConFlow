{
 "cells": [
  {
   "cell_type": "code",
   "execution_count": 1,
   "id": "fcdbadae-adf0-4dd3-a76b-4ef95a276efd",
   "metadata": {},
   "outputs": [],
   "source": [
    "import os\n",
    "import h5py"
   ]
  },
  {
   "cell_type": "code",
   "execution_count": 8,
   "id": "6f8de9a1-2525-4773-8def-e5f14db380b9",
   "metadata": {},
   "outputs": [
    {
     "data": {
      "text/plain": [
       "(True, True)"
      ]
     },
     "execution_count": 8,
     "metadata": {},
     "output_type": "execute_result"
    }
   ],
   "source": [
    "vf = ['vp001536.h5', 'vt001536.h5']\n",
    "vtf = os.path.join(os.environ['DATA'], 'ConFlow', 'spike_info', vf[0])\n",
    "vpf = os.path.join(os.environ['DATA'], 'ConFlow', 'spike_info', vf[1])\n",
    "os.path.exists(vtf), os.path.exists(vpf)"
   ]
  },
  {
   "cell_type": "code",
   "execution_count": 13,
   "id": "3986b534-a213-4304-a359-db237f2de29e",
   "metadata": {},
   "outputs": [
    {
     "name": "stdout",
     "output_type": "stream",
     "text": [
      "<KeysViewHDF5 ['Data', 'dim1', 'dim2']>\n",
      "['Data', 'dim1', 'dim2']\n",
      "(1025,)\n",
      "(512,)\n",
      "[-0.00307096  0.00307096  0.00921288  0.0153548   0.02149672  0.02763865\n",
      "  0.03378057  0.03992249  0.04606441  0.05220633]\n",
      "[0.         0.00614793 0.01229586 0.01844379 0.02459172 0.03073965\n",
      " 0.03688759 0.04303551 0.04918345 0.05533138]\n"
     ]
    }
   ],
   "source": [
    "with h5py.File(vtf, \"r\") as f:\n",
    "    print(f.keys())\n",
    "    key_list = list(f.keys())\n",
    "    print(key_list)\n",
    "    # Get data into numpy arrays\n",
    "    vt = f[key_list[0]][()]\n",
    "    dim1 = f[key_list[1]][()]\n",
    "    dim2 = f[key_list[2]][()]\n",
    "    print(dim1.shape)\n",
    "    print(dim2.shape)\n",
    "    print(dim1[0:10])\n",
    "    print(dim2[0:10])"
   ]
  },
  {
   "cell_type": "code",
   "execution_count": 11,
   "id": "3c619391-bece-447a-80a5-f44a0abd7dc6",
   "metadata": {},
   "outputs": [
    {
     "data": {
      "text/plain": [
       "array([[-1.42108547e-14, -1.42108547e-14, -1.42108547e-14, ...,\n",
       "        -1.42108547e-14, -1.42108547e-14, -1.42108547e-14],\n",
       "       [-1.82378784e+02, -1.81565475e+02, -1.80764313e+02, ...,\n",
       "        -1.83203369e+02, -1.82378784e+02, -1.81565475e+02],\n",
       "       [-1.17191826e+02, -1.18907776e+02, -1.20705132e+02, ...,\n",
       "        -1.15559814e+02, -1.17191826e+02, -1.18907776e+02],\n",
       "       ...,\n",
       "       [-3.11318787e+02, -3.18142365e+02, -3.24916260e+02, ...,\n",
       "        -3.04449768e+02, -3.11318787e+02, -3.18142365e+02],\n",
       "       [-5.18508667e+02, -5.19401489e+02, -5.20218628e+02, ...,\n",
       "        -5.17540833e+02, -5.18508667e+02, -5.19401489e+02],\n",
       "       [-4.24162615e-11, -4.23841136e-11, -4.22935610e-11, ...,\n",
       "        -4.25036048e-11, -4.24162615e-11, -4.23841136e-11]], dtype=float32)"
      ]
     },
     "execution_count": 11,
     "metadata": {},
     "output_type": "execute_result"
    }
   ],
   "source": [
    "data"
   ]
  },
  {
   "cell_type": "code",
   "execution_count": 15,
   "id": "287cbce6-937d-446a-9673-ebbec91fa83a",
   "metadata": {},
   "outputs": [
    {
     "name": "stdout",
     "output_type": "stream",
     "text": [
      "<KeysViewHDF5 ['Data', 'dim1', 'dim2']>\n",
      "['Data', 'dim1', 'dim2']\n",
      "(1024,)\n",
      "(513,)\n",
      "[0.         0.00614192 0.01228384 0.01842576 0.02456768 0.03070961\n",
      " 0.03685153 0.04299345 0.04913537 0.05527729]\n",
      "[-0.00307397  0.00307397  0.0092219   0.01536983  0.02151776  0.02766569\n",
      "  0.03381362  0.03996155  0.04610948  0.05225741]\n"
     ]
    }
   ],
   "source": [
    "with h5py.File(vpf, \"r\") as f:\n",
    "    print(f.keys())\n",
    "    key_list = list(f.keys())\n",
    "    print(key_list)\n",
    "    # Get data into numpy arrays\n",
    "    vp = f[key_list[0]][()]\n",
    "    dim1 = f[key_list[1]][()]\n",
    "    dim2 = f[key_list[2]][()]\n",
    "    print(dim1.shape)\n",
    "    print(dim2.shape)\n",
    "    print(dim1[0:10])\n",
    "    print(dim2[0:10])"
   ]
  },
  {
   "cell_type": "code",
   "execution_count": null,
   "id": "a091c1c9-835e-463f-b6f2-42c4626af8e5",
   "metadata": {},
   "outputs": [],
   "source": []
  }
 ],
 "metadata": {
  "kernelspec": {
   "display_name": "Python 3 (ipykernel)",
   "language": "python",
   "name": "python3"
  },
  "language_info": {
   "codemirror_mode": {
    "name": "ipython",
    "version": 3
   },
   "file_extension": ".py",
   "mimetype": "text/x-python",
   "name": "python",
   "nbconvert_exporter": "python",
   "pygments_lexer": "ipython3",
   "version": "3.9.13"
  }
 },
 "nbformat": 4,
 "nbformat_minor": 5
}
