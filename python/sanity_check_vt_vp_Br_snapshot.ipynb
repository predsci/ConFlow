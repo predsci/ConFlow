{
 "cells": [
  {
   "cell_type": "code",
   "execution_count": 7,
   "id": "fcdbadae-adf0-4dd3-a76b-4ef95a276efd",
   "metadata": {},
   "outputs": [],
   "source": [
    "import os\n",
    "import h5py\n",
    "import numpy as np"
   ]
  },
  {
   "cell_type": "code",
   "execution_count": 17,
   "id": "af5f2dfa-bb8b-4105-83a3-44a3bf3831e1",
   "metadata": {},
   "outputs": [
    {
     "data": {
      "text/plain": [
       "'/mnt/c/Data'"
      ]
     },
     "execution_count": 17,
     "metadata": {},
     "output_type": "execute_result"
    }
   ],
   "source": [
    "os.environ['DATA']"
   ]
  },
  {
   "cell_type": "code",
   "execution_count": 26,
   "id": "6f8de9a1-2525-4773-8def-e5f14db380b9",
   "metadata": {},
   "outputs": [
    {
     "data": {
      "text/plain": [
       "(True, True)"
      ]
     },
     "execution_count": 26,
     "metadata": {},
     "output_type": "execute_result"
    }
   ],
   "source": [
    "vf = ['vp001536.h5', 'vt001536.h5']\n",
    "vpf = os.path.join(os.environ['DATA'], 'ConFlow', 'spike_info', vf[0])\n",
    "vtf = os.path.join(os.environ['DATA'], 'ConFlow', 'spike_info', vf[1])\n",
    "os.path.exists(vtf), os.path.exists(vpf)"
   ]
  },
  {
   "cell_type": "code",
   "execution_count": 50,
   "id": "287cbce6-937d-446a-9673-ebbec91fa83a",
   "metadata": {},
   "outputs": [
    {
     "name": "stdout",
     "output_type": "stream",
     "text": [
      "<KeysViewHDF5 ['Data', 'dim1', 'dim2']>\n",
      "['Data', 'dim1', 'dim2']\n",
      "Vphi phi-axis length (dim1) =  (1025,)\n",
      "Vphi theta-axis length (dim2) =  (512,)\n",
      "phi start/end for Vphi =  -0.0030709605 6.2862563\n",
      "theta start/end for Vphi =  0.0 3.1415927\n",
      "dphi/2 = 0.003070960560693835\n"
     ]
    }
   ],
   "source": [
    "# Vphi\n",
    "with h5py.File(vpf, \"r\") as f:\n",
    "    print(f.keys())\n",
    "    key_list = list(f.keys())\n",
    "    print(key_list)\n",
    "    # Get data into numpy arrays\n",
    "    vp = f[key_list[0]][()]\n",
    "    phi_vp = f[key_list[1]][()]\n",
    "    theta_vp = f[key_list[2]][()]\n",
    "print('Vphi phi-axis length (dim1) = ', phi_vp.shape)\n",
    "print('Vphi theta-axis length (dim2) = ', theta_vp.shape)\n",
    "print('phi start/end for Vphi = ', phi_vp[0], phi_vp[-1])\n",
    "print('theta start/end for Vphi = ', theta_vp[0], theta_vp[-1])\n",
    "print('dphi/2 =', 2*np.pi/1023/2)"
   ]
  },
  {
   "cell_type": "code",
   "execution_count": 39,
   "id": "3986b534-a213-4304-a359-db237f2de29e",
   "metadata": {},
   "outputs": [
    {
     "name": "stdout",
     "output_type": "stream",
     "text": [
      "<KeysViewHDF5 ['Data', 'dim1', 'dim2']>\n",
      "['Data', 'dim1', 'dim2']\n",
      "Vtheta phi-axis length (dim1) =  (1024,)\n",
      "Vtheta theta-axis length (dim2) =  (513,)\n",
      "phi start/end for Vtheta =  0.0 6.2831855\n",
      "theta start/end for Vtheta =  -0.0030739654 3.1446667\n"
     ]
    }
   ],
   "source": [
    "# Vtheta\n",
    "with h5py.File(vtf, \"r\") as f:\n",
    "    print(f.keys())\n",
    "    key_list = list(f.keys())\n",
    "    print(key_list)\n",
    "    # Get data into numpy arrays\n",
    "    vt = f[key_list[0]][()]\n",
    "    phi_vt = f[key_list[1]][()]\n",
    "    theta_vt = f[key_list[2]][()]\n",
    "print('Vtheta phi-axis length (dim1) = ', phi_vt.shape)\n",
    "print('Vtheta theta-axis length (dim2) = ', theta_vt.shape)\n",
    "print('phi start/end for Vtheta = ', phi_vt[0], phi_vt[-1])\n",
    "print('theta start/end for Vtheta = ', theta_vt[0], theta_vt[-1])"
   ]
  },
  {
   "cell_type": "code",
   "execution_count": 47,
   "id": "a091c1c9-835e-463f-b6f2-42c4626af8e5",
   "metadata": {},
   "outputs": [
    {
     "name": "stdout",
     "output_type": "stream",
     "text": [
      "0.006135923151542565 0.0030679615757712823 0.0030739654144714217\n"
     ]
    }
   ],
   "source": [
    "nl = 512\n",
    "dtheta = np.pi/nl\n",
    "print(dtheta, dtheta/2, np.pi/(nl-1)/2)"
   ]
  },
  {
   "cell_type": "code",
   "execution_count": 52,
   "id": "941cbb5b-2de1-49ff-a6f8-0c5a0ef14e78",
   "metadata": {},
   "outputs": [
    {
     "data": {
      "text/plain": [
       "0.17578125"
      ]
     },
     "execution_count": 52,
     "metadata": {},
     "output_type": "execute_result"
    }
   ],
   "source": []
  },
  {
   "cell_type": "code",
   "execution_count": null,
   "id": "57c0d067-c507-4517-b85a-ae54cf45491f",
   "metadata": {},
   "outputs": [],
   "source": [
    "# New non-staggered mesh for Vphi (Dave's original mesh)\n",
    "# Phi axis\n",
    "dphi_vp = 2*np.pi/len(phi_vp-2)\n",
    "new_phi_vp = phi_vp[0:-1] + dphi_vp/2\n",
    "# Theta axis\n",
    "new_theta_vp = theta_vp"
   ]
  },
  {
   "cell_type": "code",
   "execution_count": null,
   "id": "a3824670-4dfc-4c3a-b3a9-00f6e57cc11d",
   "metadata": {},
   "outputs": [],
   "source": [
    "# New non-staggered mesh for Vtheta\n"
   ]
  }
 ],
 "metadata": {
  "kernelspec": {
   "display_name": "Python 3 (ipykernel)",
   "language": "python",
   "name": "python3"
  },
  "language_info": {
   "codemirror_mode": {
    "name": "ipython",
    "version": 3
   },
   "file_extension": ".py",
   "mimetype": "text/x-python",
   "name": "python",
   "nbconvert_exporter": "python",
   "pygments_lexer": "ipython3",
   "version": "3.9.13"
  }
 },
 "nbformat": 4,
 "nbformat_minor": 5
}
