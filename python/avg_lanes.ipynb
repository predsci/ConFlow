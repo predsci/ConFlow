{
 "cells": [
  {
   "cell_type": "code",
   "execution_count": 6,
   "id": "06893c2a-6468-44fb-8858-d9deea7a6f92",
   "metadata": {},
   "outputs": [],
   "source": [
    "import os\n",
    "import sys\n",
    "from datetime import timedelta\n",
    "from pathlib import Path\n",
    "from glob import glob\n",
    "from scipy.io import FortranFile\n",
    "import numpy as np\n",
    "import matplotlib\n",
    "matplotlib.use('agg')\n",
    "import matplotlib.pyplot as plt\n",
    "sys.path.append(os.path.join(os.environ['DEV'], 'sunflower'))\n",
    "sys.path.append(os.path.join(os.environ['DEV'], 'sunflower/balltracking'))\n",
    "import balltrack as blt"
   ]
  },
  {
   "cell_type": "code",
   "execution_count": 18,
   "id": "4675960c-4bfa-4bf2-9f8a-873fbcdf8cf4",
   "metadata": {},
   "outputs": [
    {
     "name": "stdout",
     "output_type": "stream",
     "text": [
      "59\n",
      "['../tests/vp000001.data', '../tests/vp000002.data', '../tests/vp000003.data', '../tests/vp000004.data', '../tests/vp000005.data', '../tests/vp000006.data', '../tests/vp000007.data', '../tests/vp000008.data', '../tests/vp000009.data', '../tests/vp000010.data', '../tests/vp000011.data', '../tests/vp000012.data', '../tests/vp000013.data', '../tests/vp000014.data', '../tests/vp000015.data', '../tests/vp000016.data', '../tests/vp000017.data', '../tests/vp000018.data', '../tests/vp000019.data', '../tests/vp000020.data', '../tests/vp000021.data', '../tests/vp000022.data', '../tests/vp000023.data', '../tests/vp000024.data', '../tests/vp000025.data', '../tests/vp000026.data', '../tests/vp000027.data', '../tests/vp000028.data', '../tests/vp000029.data', '../tests/vp000030.data', '../tests/vp000031.data', '../tests/vp000032.data', '../tests/vp000033.data', '../tests/vp000034.data', '../tests/vp000035.data', '../tests/vp000036.data', '../tests/vp000037.data', '../tests/vp000038.data', '../tests/vp000039.data', '../tests/vp000040.data', '../tests/vp000041.data', '../tests/vp000042.data', '../tests/vp000043.data', '../tests/vp000044.data', '../tests/vp000045.data', '../tests/vp000046.data', '../tests/vp000047.data', '../tests/vp000048.data', '../tests/vp000049.data', '../tests/vp000050.data', '../tests/vp000051.data', '../tests/vp000052.data', '../tests/vp000053.data', '../tests/vp000054.data', '../tests/vp000055.data', '../tests/vp000056.data', '../tests/vp000057.data', '../tests/vp000058.data', '../tests/vp000059.data']\n"
     ]
    }
   ],
   "source": [
    "vpfs = sorted(glob('../tests/vp*.data'))\n",
    "vtfs = sorted(glob('../tests/vt*.data'))\n",
    "nfiles = len(vpfs)\n",
    "print(nfiles)\n",
    "print(vpfs)"
   ]
  },
  {
   "cell_type": "code",
   "execution_count": 19,
   "id": "69e2339c-cf5d-4313-925f-6d10eaf8bb58",
   "metadata": {},
   "outputs": [
    {
     "name": "stdout",
     "output_type": "stream",
     "text": [
      "[[0, 20], [20, 40], [40, 60]]\n"
     ]
    }
   ],
   "source": [
    "# Create list of file series to average\n",
    "navg = 20\n",
    "tranges = [[i, i + navg] for i in range(0, nfiles, navg)]\n",
    "print(tranges)"
   ]
  },
  {
   "cell_type": "code",
   "execution_count": 20,
   "id": "8f816f1b-9ee3-4a6f-98ca-a1d7c372673b",
   "metadata": {},
   "outputs": [
    {
     "name": "stdout",
     "output_type": "stream",
     "text": [
      "[0, 20]\n",
      "['../tests/vp000001.data', '../tests/vp000002.data', '../tests/vp000003.data', '../tests/vp000004.data', '../tests/vp000005.data', '../tests/vp000006.data', '../tests/vp000007.data', '../tests/vp000008.data', '../tests/vp000009.data', '../tests/vp000010.data', '../tests/vp000011.data', '../tests/vp000012.data', '../tests/vp000013.data', '../tests/vp000014.data', '../tests/vp000015.data', '../tests/vp000016.data', '../tests/vp000017.data', '../tests/vp000018.data', '../tests/vp000019.data', '../tests/vp000020.data']\n"
     ]
    }
   ],
   "source": [
    "nx = 2048\n",
    "ny = 1024\n",
    "for i, trange in enumerate(tranges[0:1]):\n",
    "    i = i + offset\n",
    "    dt = i*timedelta(minutes=navg*15)\n",
    "    vpf_list = vpfs[trange[0]:trange[1]]\n",
    "    print(trange)\n",
    "    print(vpf_list)\n",
    "    vtf_list = vtfs[trange[0]:trange[1]]\n",
    "\n",
    "    vps = np.zeros([navg, ny, nx])\n",
    "    vts = np.zeros([navg, ny, nx])\n",
    "    for k, (vpf, vtf) in enumerate(zip(vpf_list, vtf_list)):\n",
    "        vps[k, ...] = np.fromfile(vpf).reshape([ny, nx])\n",
    "        vts[k, ...] = np.fromfile(vtf).reshape([ny, nx])\n",
    "    vp = vps.mean(axis=0)\n",
    "    vt = vts.mean(axis=0)\n",
    "\n",
    "    lanes = blt.make_lanes(vp, vt, 20, 1)\n",
    "    plt.figure(figsize=(16, 10))\n",
    "    plt.imshow(lanes, origin='lower', vmin=0, vmax=8, extent=(0, 360, 180, 0), cmap='gray_r')\n",
    "    plt.xlabel('Longitude (deg)')\n",
    "    plt.ylabel('Colatitude (deg)')\n",
    "    plt.title(f'Field #{i+1} - elapsed time: {str(dt)}')\n",
    "    plt.tight_layout()\n",
    "    plt.savefig(os.path.join(os.environ['DATA'], f'ConFlow/sanity_check/HR_lanes_avg_deg_{i+1:06d}.jpg'), dpi=180)\n",
    "    plt.close('all')"
   ]
  },
  {
   "cell_type": "code",
   "execution_count": null,
   "id": "b8f29afb-d5b8-4f61-b8d6-9e74479d03dd",
   "metadata": {},
   "outputs": [],
   "source": []
  }
 ],
 "metadata": {
  "kernelspec": {
   "display_name": "Python 3 (ipykernel)",
   "language": "python",
   "name": "python3"
  },
  "language_info": {
   "codemirror_mode": {
    "name": "ipython",
    "version": 3
   },
   "file_extension": ".py",
   "mimetype": "text/x-python",
   "name": "python",
   "nbconvert_exporter": "python",
   "pygments_lexer": "ipython3",
   "version": "3.9.13"
  }
 },
 "nbformat": 4,
 "nbformat_minor": 5
}
