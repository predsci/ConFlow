{
 "cells": [
  {
   "cell_type": "code",
   "execution_count": 1,
   "id": "fcdbadae-adf0-4dd3-a76b-4ef95a276efd",
   "metadata": {},
   "outputs": [],
   "source": [
    "import os\n",
    "import h5py"
   ]
  },
  {
   "cell_type": "code",
   "execution_count": 8,
   "id": "6f8de9a1-2525-4773-8def-e5f14db380b9",
   "metadata": {},
   "outputs": [
    {
     "data": {
      "text/plain": [
       "(True, True)"
      ]
     },
     "execution_count": 8,
     "metadata": {},
     "output_type": "execute_result"
    }
   ],
   "source": [
    "vf = ['vp001536.h5', 'vt001536.h5']\n",
    "vtf = os.path.join(os.environ['DATA'], 'ConFlow', 'spike_info', vf[0])\n",
    "vpf = os.path.join(os.environ['DATA'], 'ConFlow', 'spike_info', vf[1])\n",
    "os.path.exists(vtf), os.path.exists(vpf)"
   ]
  },
  {
   "cell_type": "code",
   "execution_count": 10,
   "id": "3986b534-a213-4304-a359-db237f2de29e",
   "metadata": {},
   "outputs": [
    {
     "name": "stdout",
     "output_type": "stream",
     "text": [
      "<KeysViewHDF5 ['Data', 'dim1', 'dim2']>\n",
      "['Data', 'dim1', 'dim2']\n",
      "[[-1.42108547e-14 -1.42108547e-14 -1.42108547e-14 ... -1.42108547e-14\n",
      "  -1.42108547e-14 -1.42108547e-14]\n",
      " [-1.82378784e+02 -1.81565475e+02 -1.80764313e+02 ... -1.83203369e+02\n",
      "  -1.82378784e+02 -1.81565475e+02]\n",
      " [-1.17191826e+02 -1.18907776e+02 -1.20705132e+02 ... -1.15559814e+02\n",
      "  -1.17191826e+02 -1.18907776e+02]\n",
      " ...\n",
      " [-3.11318787e+02 -3.18142365e+02 -3.24916260e+02 ... -3.04449768e+02\n",
      "  -3.11318787e+02 -3.18142365e+02]\n",
      " [-5.18508667e+02 -5.19401489e+02 -5.20218628e+02 ... -5.17540833e+02\n",
      "  -5.18508667e+02 -5.19401489e+02]\n",
      " [-4.24162615e-11 -4.23841136e-11 -4.22935610e-11 ... -4.25036048e-11\n",
      "  -4.24162615e-11 -4.23841136e-11]]\n"
     ]
    }
   ],
   "source": [
    "with h5py.File(vtf, \"r\") as f:\n",
    "    print(f.keys())\n",
    "    key_list = list(f.keys())\n",
    "    print(key_list)\n",
    "    # Get data into numpy arrays\n",
    "    vt = f[key_list[0]][()]\n",
    "    dim1 = f[key_list[1]][()]\n",
    "    dim2 = f[key_list[2]][()]\n",
    "    print(dim1.shape)\n",
    "    print(dim2.shape)\n",
    "    print(dim1)\n",
    "    print(dim2)"
   ]
  },
  {
   "cell_type": "code",
   "execution_count": 11,
   "id": "3c619391-bece-447a-80a5-f44a0abd7dc6",
   "metadata": {},
   "outputs": [
    {
     "data": {
      "text/plain": [
       "array([[-1.42108547e-14, -1.42108547e-14, -1.42108547e-14, ...,\n",
       "        -1.42108547e-14, -1.42108547e-14, -1.42108547e-14],\n",
       "       [-1.82378784e+02, -1.81565475e+02, -1.80764313e+02, ...,\n",
       "        -1.83203369e+02, -1.82378784e+02, -1.81565475e+02],\n",
       "       [-1.17191826e+02, -1.18907776e+02, -1.20705132e+02, ...,\n",
       "        -1.15559814e+02, -1.17191826e+02, -1.18907776e+02],\n",
       "       ...,\n",
       "       [-3.11318787e+02, -3.18142365e+02, -3.24916260e+02, ...,\n",
       "        -3.04449768e+02, -3.11318787e+02, -3.18142365e+02],\n",
       "       [-5.18508667e+02, -5.19401489e+02, -5.20218628e+02, ...,\n",
       "        -5.17540833e+02, -5.18508667e+02, -5.19401489e+02],\n",
       "       [-4.24162615e-11, -4.23841136e-11, -4.22935610e-11, ...,\n",
       "        -4.25036048e-11, -4.24162615e-11, -4.23841136e-11]], dtype=float32)"
      ]
     },
     "execution_count": 11,
     "metadata": {},
     "output_type": "execute_result"
    }
   ],
   "source": [
    "data"
   ]
  },
  {
   "cell_type": "code",
   "execution_count": null,
   "id": "287cbce6-937d-446a-9673-ebbec91fa83a",
   "metadata": {},
   "outputs": [],
   "source": []
  }
 ],
 "metadata": {
  "kernelspec": {
   "display_name": "Python 3 (ipykernel)",
   "language": "python",
   "name": "python3"
  },
  "language_info": {
   "codemirror_mode": {
    "name": "ipython",
    "version": 3
   },
   "file_extension": ".py",
   "mimetype": "text/x-python",
   "name": "python",
   "nbconvert_exporter": "python",
   "pygments_lexer": "ipython3",
   "version": "3.8.10"
  }
 },
 "nbformat": 4,
 "nbformat_minor": 5
}
